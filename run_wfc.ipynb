{
 "cells": [
  {
   "cell_type": "markdown",
   "metadata": {},
   "source": [
    "In the original version of the Wave Function Collapse algorithm, jonbs were set up using the [samples.xml](https://github.com/mxgmn/WaveFunctionCollapse/blob/master/samples.xml) file. In this version, the same information is fed into the `Main()` function as shown below.\n",
    "\n",
    "Additional kwargs for `Main` are the same as those for the [`qrng` method of CreativeQiskit](https://github.com/quantumjim/qreative/blob/master/tutorials/qrng.ipynb)."
   ]
  },
  {
   "cell_type": "code",
   "execution_count": null,
   "metadata": {},
   "outputs": [],
   "source": [
    "from model import Program\n",
    "\n",
    "prog = Program()    \n",
    "prog.Main(name=\"Cat\",N=3,symmetry=2,periodic=True,width=80,height=80, sim=False) # cats using real device\n",
    "#prog.Main(name=\"Village\", N=3, symmetry=2, periodic=True) # villages from simulator"
   ]
  },
  {
   "cell_type": "code",
   "execution_count": null,
   "metadata": {},
   "outputs": [],
   "source": []
  }
 ],
 "metadata": {
  "kernelspec": {
   "display_name": "Python 3",
   "language": "python",
   "name": "python3"
  },
  "language_info": {
   "codemirror_mode": {
    "name": "ipython",
    "version": 3
   },
   "file_extension": ".py",
   "mimetype": "text/x-python",
   "name": "python",
   "nbconvert_exporter": "python",
   "pygments_lexer": "ipython3",
   "version": "3.7.0"
  }
 },
 "nbformat": 4,
 "nbformat_minor": 2
}
